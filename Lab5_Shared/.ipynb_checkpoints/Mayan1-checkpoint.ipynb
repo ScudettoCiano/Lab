{
 "cells": [
  {
   "cell_type": "code",
   "execution_count": 1,
   "id": "c0d20f55-67c5-4fce-95d9-96de4e8b7e05",
   "metadata": {},
   "outputs": [],
   "source": [
    "import pandas as pd\n",
    "import numpy as np\n",
    "import seaborn as sns\n",
    "import matplotlib.pyplot as plt\n",
    "from sklearn.model_selection import train_test_split, StratifiedKFold, cross_val_score, RandomizedSearchCV\n",
    "from sklearn.preprocessing import StandardScaler, LabelEncoder\n",
    "from sklearn.neighbors import KNeighborsClassifier\n",
    "from sklearn.naive_bayes import GaussianNB\n",
    "from sklearn.feature_selection import SelectKBest, f_classif\n",
    "from imblearn.over_sampling import SMOTE\n",
    "from sklearn.metrics import classification_report, accuracy_score, f1_score"
   ]
  },
  {
   "cell_type": "code",
   "execution_count": 2,
   "id": "c08051f7-7c04-4bb6-8705-b587656d06fe",
   "metadata": {},
   "outputs": [],
   "source": [
    "# Load Dataset\n",
    "df_air_train = pd.read_csv('air_quality_train.csv')\n",
    "df_air_test = pd.read_csv('air_quality_test.csv')"
   ]
  },
  {
   "cell_type": "markdown",
   "id": "dd1f07eb-5941-4ecb-85d7-a0389d425834",
   "metadata": {},
   "source": [
    "# EDA"
   ]
  },
  {
   "cell_type": "code",
   "execution_count": 6,
   "id": "4574280c-0fd6-4cad-bbf3-734b77da7271",
   "metadata": {},
   "outputs": [
    {
     "data": {
      "text/html": [
       "<div>\n",
       "<style scoped>\n",
       "    .dataframe tbody tr th:only-of-type {\n",
       "        vertical-align: middle;\n",
       "    }\n",
       "\n",
       "    .dataframe tbody tr th {\n",
       "        vertical-align: top;\n",
       "    }\n",
       "\n",
       "    .dataframe thead th {\n",
       "        text-align: right;\n",
       "    }\n",
       "</style>\n",
       "<table border=\"1\" class=\"dataframe\">\n",
       "  <thead>\n",
       "    <tr style=\"text-align: right;\">\n",
       "      <th></th>\n",
       "      <th>pm10</th>\n",
       "      <th>pm25</th>\n",
       "      <th>so2</th>\n",
       "      <th>co</th>\n",
       "      <th>o3</th>\n",
       "      <th>no2</th>\n",
       "      <th>max</th>\n",
       "    </tr>\n",
       "  </thead>\n",
       "  <tbody>\n",
       "    <tr>\n",
       "      <th>count</th>\n",
       "      <td>3124.000000</td>\n",
       "      <td>518.000000</td>\n",
       "      <td>3226.000000</td>\n",
       "      <td>3233.000000</td>\n",
       "      <td>3233.000000</td>\n",
       "      <td>3231.000000</td>\n",
       "      <td>3238.000000</td>\n",
       "    </tr>\n",
       "    <tr>\n",
       "      <th>mean</th>\n",
       "      <td>65.063700</td>\n",
       "      <td>94.613900</td>\n",
       "      <td>28.116553</td>\n",
       "      <td>30.149397</td>\n",
       "      <td>86.325394</td>\n",
       "      <td>17.996905</td>\n",
       "      <td>99.228227</td>\n",
       "    </tr>\n",
       "    <tr>\n",
       "      <th>std</th>\n",
       "      <td>19.254804</td>\n",
       "      <td>27.234165</td>\n",
       "      <td>13.744830</td>\n",
       "      <td>13.605847</td>\n",
       "      <td>50.133978</td>\n",
       "      <td>8.088672</td>\n",
       "      <td>43.185844</td>\n",
       "    </tr>\n",
       "    <tr>\n",
       "      <th>min</th>\n",
       "      <td>0.000000</td>\n",
       "      <td>23.000000</td>\n",
       "      <td>0.000000</td>\n",
       "      <td>0.000000</td>\n",
       "      <td>0.000000</td>\n",
       "      <td>0.000000</td>\n",
       "      <td>0.000000</td>\n",
       "    </tr>\n",
       "    <tr>\n",
       "      <th>25%</th>\n",
       "      <td>54.000000</td>\n",
       "      <td>77.000000</td>\n",
       "      <td>18.000000</td>\n",
       "      <td>21.000000</td>\n",
       "      <td>51.000000</td>\n",
       "      <td>13.000000</td>\n",
       "      <td>70.000000</td>\n",
       "    </tr>\n",
       "    <tr>\n",
       "      <th>50%</th>\n",
       "      <td>64.000000</td>\n",
       "      <td>94.000000</td>\n",
       "      <td>27.000000</td>\n",
       "      <td>29.000000</td>\n",
       "      <td>78.000000</td>\n",
       "      <td>17.000000</td>\n",
       "      <td>90.000000</td>\n",
       "    </tr>\n",
       "    <tr>\n",
       "      <th>75%</th>\n",
       "      <td>75.000000</td>\n",
       "      <td>110.750000</td>\n",
       "      <td>34.000000</td>\n",
       "      <td>37.000000</td>\n",
       "      <td>109.000000</td>\n",
       "      <td>21.000000</td>\n",
       "      <td>118.000000</td>\n",
       "    </tr>\n",
       "    <tr>\n",
       "      <th>max</th>\n",
       "      <td>179.000000</td>\n",
       "      <td>287.000000</td>\n",
       "      <td>112.000000</td>\n",
       "      <td>134.000000</td>\n",
       "      <td>297.000000</td>\n",
       "      <td>93.000000</td>\n",
       "      <td>297.000000</td>\n",
       "    </tr>\n",
       "  </tbody>\n",
       "</table>\n",
       "</div>"
      ],
      "text/plain": [
       "              pm10        pm25          so2           co           o3  \\\n",
       "count  3124.000000  518.000000  3226.000000  3233.000000  3233.000000   \n",
       "mean     65.063700   94.613900    28.116553    30.149397    86.325394   \n",
       "std      19.254804   27.234165    13.744830    13.605847    50.133978   \n",
       "min       0.000000   23.000000     0.000000     0.000000     0.000000   \n",
       "25%      54.000000   77.000000    18.000000    21.000000    51.000000   \n",
       "50%      64.000000   94.000000    27.000000    29.000000    78.000000   \n",
       "75%      75.000000  110.750000    34.000000    37.000000   109.000000   \n",
       "max     179.000000  287.000000   112.000000   134.000000   297.000000   \n",
       "\n",
       "               no2          max  \n",
       "count  3231.000000  3238.000000  \n",
       "mean     17.996905    99.228227  \n",
       "std       8.088672    43.185844  \n",
       "min       0.000000     0.000000  \n",
       "25%      13.000000    70.000000  \n",
       "50%      17.000000    90.000000  \n",
       "75%      21.000000   118.000000  \n",
       "max      93.000000   297.000000  "
      ]
     },
     "execution_count": 6,
     "metadata": {},
     "output_type": "execute_result"
    }
   ],
   "source": [
    "df_air_train.describe()"
   ]
  },
  {
   "cell_type": "code",
   "execution_count": 5,
   "id": "e0d2b834-7313-4bf4-bbcd-3ae65839ae65",
   "metadata": {},
   "outputs": [
    {
     "data": {
      "image/png": "[encoded data removed]",
      "text/plain": [
       "<Figure size 640x480 with 9 Axes>"
      ]
     },
     "metadata": {},
     "output_type": "display_data"
    }
   ],
   "source": [
    "df_air_train.hist();"
   ]
  },
  {
   "cell_type": "code",
   "execution_count": 3,
   "id": "7046e3a6-3562-4d03-b0ad-e56df47bb766",
   "metadata": {},
   "outputs": [
    {
     "name": "stdout",
     "output_type": "stream",
     "text": [
      "date           0\n",
      "station        0\n",
      "pm10         114\n",
      "pm25        2720\n",
      "so2           12\n",
      "co             5\n",
      "o3             5\n",
      "no2            7\n",
      "max            0\n",
      "critical       1\n",
      "category       0\n",
      "dtype: int64\n"
     ]
    }
   ],
   "source": [
    "print(df_air_train.isnull().sum())"
   ]
  },
  {
   "cell_type": "code",
   "execution_count": 7,
   "id": "172303fb-50f1-425d-b06e-4ef0d05b1078",
   "metadata": {},
   "outputs": [
    {
     "data": {
      "text/plain": [
       "date         object\n",
       "station      object\n",
       "pm10        float64\n",
       "pm25        float64\n",
       "so2         float64\n",
       "co          float64\n",
       "o3          float64\n",
       "no2         float64\n",
       "max         float64\n",
       "critical     object\n",
       "category     object\n",
       "dtype: object"
      ]
     },
     "execution_count": 7,
     "metadata": {},
     "output_type": "execute_result"
    }
   ],
   "source": [
    "df_air_train.dtypes"
   ]
  },
  {
   "cell_type": "markdown",
   "id": "e20c22cf-9de9-4ef4-9d87-064a8ba76180",
   "metadata": {},
   "source": [
    "# preprocess"
   ]
  },
  {
   "cell_type": "code",
   "execution_count": 8,
   "id": "ae1888b2-48b3-47e1-80ef-76a8e6a66438",
   "metadata": {},
   "outputs": [
    {
     "name": "stderr",
     "output_type": "stream",
     "text": [
      "/var/folders/vs/zksk8xgx1vxczt_hfgx08gzc0000gn/T/ipykernel_36143/4266844643.py:3: FutureWarning: A value is trying to be set on a copy of a DataFrame or Series through chained assignment using an inplace method.\n",
      "The behavior will change in pandas 3.0. This inplace method will never work because the intermediate object on which we are setting values always behaves as a copy.\n",
      "\n",
      "For example, when doing 'df[col].method(value, inplace=True)', try using 'df.method({col: value}, inplace=True)' or df[col] = df[col].method(value) instead, to perform the operation inplace on the original object.\n",
      "\n",
      "\n",
      "  df_air_train[col].fillna(df_air_train[col].median(), inplace=True)\n",
      "/var/folders/vs/zksk8xgx1vxczt_hfgx08gzc0000gn/T/ipykernel_36143/4266844643.py:4: FutureWarning: A value is trying to be set on a copy of a DataFrame or Series through chained assignment using an inplace method.\n",
      "The behavior will change in pandas 3.0. This inplace method will never work because the intermediate object on which we are setting values always behaves as a copy.\n",
      "\n",
      "For example, when doing 'df[col].method(value, inplace=True)', try using 'df.method({col: value}, inplace=True)' or df[col] = df[col].method(value) instead, to perform the operation inplace on the original object.\n",
      "\n",
      "\n",
      "  df_air_test[col].fillna(df_air_train[col].median(), inplace=True)\n",
      "/var/folders/vs/zksk8xgx1vxczt_hfgx08gzc0000gn/T/ipykernel_36143/4266844643.py:3: FutureWarning: A value is trying to be set on a copy of a DataFrame or Series through chained assignment using an inplace method.\n",
      "The behavior will change in pandas 3.0. This inplace method will never work because the intermediate object on which we are setting values always behaves as a copy.\n",
      "\n",
      "For example, when doing 'df[col].method(value, inplace=True)', try using 'df.method({col: value}, inplace=True)' or df[col] = df[col].method(value) instead, to perform the operation inplace on the original object.\n",
      "\n",
      "\n",
      "  df_air_train[col].fillna(df_air_train[col].median(), inplace=True)\n",
      "/var/folders/vs/zksk8xgx1vxczt_hfgx08gzc0000gn/T/ipykernel_36143/4266844643.py:4: FutureWarning: A value is trying to be set on a copy of a DataFrame or Series through chained assignment using an inplace method.\n",
      "The behavior will change in pandas 3.0. This inplace method will never work because the intermediate object on which we are setting values always behaves as a copy.\n",
      "\n",
      "For example, when doing 'df[col].method(value, inplace=True)', try using 'df.method({col: value}, inplace=True)' or df[col] = df[col].method(value) instead, to perform the operation inplace on the original object.\n",
      "\n",
      "\n",
      "  df_air_test[col].fillna(df_air_train[col].median(), inplace=True)\n",
      "/var/folders/vs/zksk8xgx1vxczt_hfgx08gzc0000gn/T/ipykernel_36143/4266844643.py:3: FutureWarning: A value is trying to be set on a copy of a DataFrame or Series through chained assignment using an inplace method.\n",
      "The behavior will change in pandas 3.0. This inplace method will never work because the intermediate object on which we are setting values always behaves as a copy.\n",
      "\n",
      "For example, when doing 'df[col].method(value, inplace=True)', try using 'df.method({col: value}, inplace=True)' or df[col] = df[col].method(value) instead, to perform the operation inplace on the original object.\n",
      "\n",
      "\n",
      "  df_air_train[col].fillna(df_air_train[col].median(), inplace=True)\n",
      "/var/folders/vs/zksk8xgx1vxczt_hfgx08gzc0000gn/T/ipykernel_36143/4266844643.py:4: FutureWarning: A value is trying to be set on a copy of a DataFrame or Series through chained assignment using an inplace method.\n",
      "The behavior will change in pandas 3.0. This inplace method will never work because the intermediate object on which we are setting values always behaves as a copy.\n",
      "\n",
      "For example, when doing 'df[col].method(value, inplace=True)', try using 'df.method({col: value}, inplace=True)' or df[col] = df[col].method(value) instead, to perform the operation inplace on the original object.\n",
      "\n",
      "\n",
      "  df_air_test[col].fillna(df_air_train[col].median(), inplace=True)\n",
      "/var/folders/vs/zksk8xgx1vxczt_hfgx08gzc0000gn/T/ipykernel_36143/4266844643.py:3: FutureWarning: A value is trying to be set on a copy of a DataFrame or Series through chained assignment using an inplace method.\n",
      "The behavior will change in pandas 3.0. This inplace method will never work because the intermediate object on which we are setting values always behaves as a copy.\n",
      "\n",
      "For example, when doing 'df[col].method(value, inplace=True)', try using 'df.method({col: value}, inplace=True)' or df[col] = df[col].method(value) instead, to perform the operation inplace on the original object.\n",
      "\n",
      "\n",
      "  df_air_train[col].fillna(df_air_train[col].median(), inplace=True)\n",
      "/var/folders/vs/zksk8xgx1vxczt_hfgx08gzc0000gn/T/ipykernel_36143/4266844643.py:4: FutureWarning: A value is trying to be set on a copy of a DataFrame or Series through chained assignment using an inplace method.\n",
      "The behavior will change in pandas 3.0. This inplace method will never work because the intermediate object on which we are setting values always behaves as a copy.\n",
      "\n",
      "For example, when doing 'df[col].method(value, inplace=True)', try using 'df.method({col: value}, inplace=True)' or df[col] = df[col].method(value) instead, to perform the operation inplace on the original object.\n",
      "\n",
      "\n",
      "  df_air_test[col].fillna(df_air_train[col].median(), inplace=True)\n",
      "/var/folders/vs/zksk8xgx1vxczt_hfgx08gzc0000gn/T/ipykernel_36143/4266844643.py:3: FutureWarning: A value is trying to be set on a copy of a DataFrame or Series through chained assignment using an inplace method.\n",
      "The behavior will change in pandas 3.0. This inplace method will never work because the intermediate object on which we are setting values always behaves as a copy.\n",
      "\n",
      "For example, when doing 'df[col].method(value, inplace=True)', try using 'df.method({col: value}, inplace=True)' or df[col] = df[col].method(value) instead, to perform the operation inplace on the original object.\n",
      "\n",
      "\n",
      "  df_air_train[col].fillna(df_air_train[col].median(), inplace=True)\n",
      "/var/folders/vs/zksk8xgx1vxczt_hfgx08gzc0000gn/T/ipykernel_36143/4266844643.py:4: FutureWarning: A value is trying to be set on a copy of a DataFrame or Series through chained assignment using an inplace method.\n",
      "The behavior will change in pandas 3.0. This inplace method will never work because the intermediate object on which we are setting values always behaves as a copy.\n",
      "\n",
      "For example, when doing 'df[col].method(value, inplace=True)', try using 'df.method({col: value}, inplace=True)' or df[col] = df[col].method(value) instead, to perform the operation inplace on the original object.\n",
      "\n",
      "\n",
      "  df_air_test[col].fillna(df_air_train[col].median(), inplace=True)\n",
      "/var/folders/vs/zksk8xgx1vxczt_hfgx08gzc0000gn/T/ipykernel_36143/4266844643.py:3: FutureWarning: A value is trying to be set on a copy of a DataFrame or Series through chained assignment using an inplace method.\n",
      "The behavior will change in pandas 3.0. This inplace method will never work because the intermediate object on which we are setting values always behaves as a copy.\n",
      "\n",
      "For example, when doing 'df[col].method(value, inplace=True)', try using 'df.method({col: value}, inplace=True)' or df[col] = df[col].method(value) instead, to perform the operation inplace on the original object.\n",
      "\n",
      "\n",
      "  df_air_train[col].fillna(df_air_train[col].median(), inplace=True)\n",
      "/var/folders/vs/zksk8xgx1vxczt_hfgx08gzc0000gn/T/ipykernel_36143/4266844643.py:4: FutureWarning: A value is trying to be set on a copy of a DataFrame or Series through chained assignment using an inplace method.\n",
      "The behavior will change in pandas 3.0. This inplace method will never work because the intermediate object on which we are setting values always behaves as a copy.\n",
      "\n",
      "For example, when doing 'df[col].method(value, inplace=True)', try using 'df.method({col: value}, inplace=True)' or df[col] = df[col].method(value) instead, to perform the operation inplace on the original object.\n",
      "\n",
      "\n",
      "  df_air_test[col].fillna(df_air_train[col].median(), inplace=True)\n",
      "/var/folders/vs/zksk8xgx1vxczt_hfgx08gzc0000gn/T/ipykernel_36143/4266844643.py:3: FutureWarning: A value is trying to be set on a copy of a DataFrame or Series through chained assignment using an inplace method.\n",
      "The behavior will change in pandas 3.0. This inplace method will never work because the intermediate object on which we are setting values always behaves as a copy.\n",
      "\n",
      "For example, when doing 'df[col].method(value, inplace=True)', try using 'df.method({col: value}, inplace=True)' or df[col] = df[col].method(value) instead, to perform the operation inplace on the original object.\n",
      "\n",
      "\n",
      "  df_air_train[col].fillna(df_air_train[col].median(), inplace=True)\n",
      "/var/folders/vs/zksk8xgx1vxczt_hfgx08gzc0000gn/T/ipykernel_36143/4266844643.py:4: FutureWarning: A value is trying to be set on a copy of a DataFrame or Series through chained assignment using an inplace method.\n",
      "The behavior will change in pandas 3.0. This inplace method will never work because the intermediate object on which we are setting values always behaves as a copy.\n",
      "\n",
      "For example, when doing 'df[col].method(value, inplace=True)', try using 'df.method({col: value}, inplace=True)' or df[col] = df[col].method(value) instead, to perform the operation inplace on the original object.\n",
      "\n",
      "\n",
      "  df_air_test[col].fillna(df_air_train[col].median(), inplace=True)\n"
     ]
    }
   ],
   "source": [
    "# Mengisi missing values dengan median\n",
    "for col in ['pm10', 'pm25', 'so2', 'co', 'o3', 'no2', 'max']:\n",
    "    df_air_train[col].fillna(df_air_train[col].median(), inplace=True)\n",
    "    df_air_test[col].fillna(df_air_train[col].median(), inplace=True)"
   ]
  },
  {
   "cell_type": "code",
   "execution_count": 9,
   "id": "96355777-9cea-482a-9cf2-1a398a885c93",
   "metadata": {},
   "outputs": [],
   "source": [
    "# Encoding categorical columns\n",
    "le_critical = LabelEncoder()\n",
    "df_air_train['critical'] = le_critical.fit_transform(df_air_train['critical'])\n",
    "\n",
    "le_category = LabelEncoder()\n",
    "df_air_train['category'] = le_category.fit_transform(df_air_train['category'])"
   ]
  },
  {
   "cell_type": "code",
   "execution_count": 10,
   "id": "c4e37bbe-33da-4fa4-a3af-1eddf278e167",
   "metadata": {},
   "outputs": [
    {
     "name": "stdout",
     "output_type": "stream",
     "text": [
      "Selected Features: Index(['pm10', 'pm25', 'o3', 'no2', 'max'], dtype='object')\n"
     ]
    }
   ],
   "source": [
    "# Feature Selection\n",
    "X = df_air_train.drop(columns=['date', 'station', 'category'])\n",
    "y = df_air_train['category']\n",
    "\n",
    "selector = SelectKBest(score_func=f_classif, k=5)\n",
    "X_selected = selector.fit_transform(X, y)\n",
    "selected_features = X.columns[selector.get_support()]\n",
    "print(\"Selected Features:\", selected_features)"
   ]
  },
  {
   "cell_type": "code",
   "execution_count": 11,
   "id": "625df69d-01d0-464b-9261-91bebcd21231",
   "metadata": {},
   "outputs": [],
   "source": [
    "# Update dataset dengan fitur yang dipilih\n",
    "X = df_air_train[selected_features]\n",
    "X_test_final = df_air_test[selected_features]"
   ]
  },
  {
   "cell_type": "code",
   "execution_count": 12,
   "id": "0c4b1ded-cfe2-4904-8189-5b7a56dddfa5",
   "metadata": {},
   "outputs": [
    {
     "name": "stderr",
     "output_type": "stream",
     "text": [
      "/opt/miniconda3/envs/main-ds/lib/python3.9/site-packages/sklearn/base.py:474: FutureWarning: `BaseEstimator._validate_data` is deprecated in 1.6 and will be removed in 1.7. Use `sklearn.utils.validation.validate_data` instead. This function becomes public and is part of the scikit-learn developer API.\n",
      "  warnings.warn(\n"
     ]
    }
   ],
   "source": [
    "# Handling Imbalance Data\n",
    "smote = SMOTE(random_state=42)\n",
    "X_resampled, y_resampled = smote.fit_resample(X, y)"
   ]
  },
  {
   "cell_type": "code",
   "execution_count": 13,
   "id": "9559d243-b5c1-414a-9ec9-841df7f3f7b4",
   "metadata": {},
   "outputs": [],
   "source": [
    "# Split Data\n",
    "X_train, X_test, y_train, y_test = train_test_split(X_resampled, y_resampled, test_size=0.2, stratify=y_resampled, random_state=42)"
   ]
  },
  {
   "cell_type": "code",
   "execution_count": 14,
   "id": "2477d0ef-bf2d-42e3-8c1d-7e3f833e4bc0",
   "metadata": {},
   "outputs": [],
   "source": [
    "# Normalization\n",
    "scaler = StandardScaler()\n",
    "X_train_scaled = scaler.fit_transform(X_train)\n",
    "X_test_scaled = scaler.transform(X_test)\n",
    "X_test_final_scaled = scaler.transform(X_test_final)"
   ]
  },
  {
   "cell_type": "code",
   "execution_count": 15,
   "id": "898bdf9e-bd7e-44d3-b4c3-77b1ee45a951",
   "metadata": {},
   "outputs": [],
   "source": [
    "# Model - KNN\n",
    "param_dist = {\n",
    "    'n_neighbors': range(1, 21),\n",
    "    'metric': ['euclidean', 'manhattan', 'minkowski'],\n",
    "    'weights': ['uniform', 'distance']\n",
    "}"
   ]
  },
  {
   "cell_type": "code",
   "execution_count": 16,
   "id": "994afb4b-c3ce-418c-a82d-2f9a56345ea7",
   "metadata": {},
   "outputs": [
    {
     "name": "stdout",
     "output_type": "stream",
     "text": [
      "Fitting 5 folds for each of 10 candidates, totalling 50 fits\n",
      "Best Params for KNN: {'weights': 'uniform', 'n_neighbors': 1, 'metric': 'manhattan'}\n"
     ]
    }
   ],
   "source": [
    "knn = KNeighborsClassifier()\n",
    "kfold = StratifiedKFold(n_splits=5, shuffle=True, random_state=42)\n",
    "random_search_knn = RandomizedSearchCV(knn, param_dist, n_iter=10, scoring='f1_weighted', cv=kfold, random_state=42, verbose=1)\n",
    "random_search_knn.fit(X_train_scaled, y_train)\n",
    "\n",
    "print(\"Best Params for KNN:\", random_search_knn.best_params_)"
   ]
  },
  {
   "cell_type": "code",
   "execution_count": 17,
   "id": "2bbb709d-a18b-4887-8cb6-fa193cc67a73",
   "metadata": {},
   "outputs": [],
   "source": [
    "\n",
    "best_knn = random_search_knn.best_estimator_\n",
    "y_pred_knn = best_knn.predict(X_test_scaled)"
   ]
  },
  {
   "cell_type": "code",
   "execution_count": 18,
   "id": "0b665111-02e8-4dca-8c42-5b91de508860",
   "metadata": {},
   "outputs": [],
   "source": [
    "# Model - Naive Bayes\n",
    "gnb = GaussianNB()\n",
    "gnb.fit(X_train_scaled, y_train)\n",
    "y_pred_gnb = gnb.predict(X_test_scaled)\n"
   ]
  },
  {
   "cell_type": "code",
   "execution_count": 19,
   "id": "9a5d7051-7865-4776-aa79-6317b4a775d1",
   "metadata": {},
   "outputs": [
    {
     "name": "stdout",
     "output_type": "stream",
     "text": [
      "KNN Classification Report:\n",
      "              precision    recall  f1-score   support\n",
      "\n",
      "           0       0.99      1.00      1.00       361\n",
      "           1       0.93      0.96      0.95       360\n",
      "           2       0.94      0.93      0.93       360\n",
      "           3       0.98      0.97      0.98       361\n",
      "           4       0.93      0.91      0.92       360\n",
      "\n",
      "    accuracy                           0.95      1802\n",
      "   macro avg       0.95      0.95      0.95      1802\n",
      "weighted avg       0.95      0.95      0.95      1802\n",
      "\n",
      "Naive Bayes Classification Report:\n",
      "              precision    recall  f1-score   support\n",
      "\n",
      "           0       0.91      1.00      0.95       361\n",
      "           1       0.30      0.99      0.46       360\n",
      "           2       0.44      0.01      0.02       360\n",
      "           3       0.96      0.42      0.58       361\n",
      "           4       0.98      0.17      0.30       360\n",
      "\n",
      "    accuracy                           0.52      1802\n",
      "   macro avg       0.72      0.52      0.46      1802\n",
      "weighted avg       0.72      0.52      0.46      1802\n",
      "\n"
     ]
    }
   ],
   "source": [
    "# Evaluasi\n",
    "print(\"KNN Classification Report:\")\n",
    "print(classification_report(y_test, y_pred_knn))\n",
    "print(\"Naive Bayes Classification Report:\")\n",
    "print(classification_report(y_test, y_pred_gnb))"
   ]
  },
  {
   "cell_type": "code",
   "execution_count": 20,
   "id": "a5e5acdd-11b3-4819-9b98-6ae0b52922d0",
   "metadata": {},
   "outputs": [],
   "source": [
    "# Prediksi untuk Submission\n",
    "y_pred_final_knn = best_knn.predict(X_test_final_scaled)\n",
    "y_pred_final_gnb = gnb.predict(X_test_final_scaled)"
   ]
  },
  {
   "cell_type": "code",
   "execution_count": 21,
   "id": "23c92886-220f-469c-8a68-38c8cc02f2ab",
   "metadata": {},
   "outputs": [],
   "source": [
    "# Convert back to original labels\n",
    "y_pred_final_knn_labels = le_category.inverse_transform(y_pred_final_knn)\n",
    "y_pred_final_gnb_labels = le_category.inverse_transform(y_pred_final_gnb)"
   ]
  },
  {
   "cell_type": "code",
   "execution_count": 22,
   "id": "768d7ac4-2352-4472-a265-7ada022dde16",
   "metadata": {},
   "outputs": [],
   "source": [
    "# Simpan hasil ke CSV\n",
    "submission_knn = pd.DataFrame({'date': df_air_test['date'], 'category': y_pred_final_knn_labels})\n",
    "submission_knn.to_csv('submission_knn.csv', index=False)\n",
    "\n",
    "submission_gnb = pd.DataFrame({'date': df_air_test['date'], 'category': y_pred_final_gnb_labels})\n",
    "submission_gnb.to_csv('submission_gnb.csv', index=False)"
   ]
  },
  {
   "cell_type": "code",
   "execution_count": null,
   "id": "3b93e500-c191-4072-a14e-d1749dafa477",
   "metadata": {},
   "outputs": [],
   "source": []
  }
 ],
 "metadata": {
  "kernelspec": {
   "display_name": "Python 3 (ipykernel)",
   "language": "python",
   "name": "python3"
  },
  "language_info": {
   "codemirror_mode": {
    "name": "ipython",
    "version": 3
   },
   "file_extension": ".py",
   "mimetype": "text/x-python",
   "name": "python",
   "nbconvert_exporter": "python",
   "pygments_lexer": "ipython3",
   "version": "3.9.21"
  }
 },
 "nbformat": 4,
 "nbformat_minor": 5
}
